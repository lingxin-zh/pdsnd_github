{
 "cells": [
  {
   "cell_type": "markdown",
   "metadata": {},
   "source": [
    "### Explore Bike Share Data\n",
    "\n",
    "For this project, your goal is to ask and answer three questions about the available bikeshare data from Washington, Chicago, and New York.  This notebook can be submitted directly through the workspace when you are confident in your results.\n",
    "\n",
    "You will be graded against the project [Rubric](https://review.udacity.com/#!/rubrics/2508/view) by a mentor after you have submitted.  To get you started, you can use the template below, but feel free to be creative in your solutions!"
   ]
  },
  {
   "cell_type": "code",
   "execution_count": 35,
   "metadata": {},
   "outputs": [],
   "source": [
    "ny = read.csv('new_york_city.csv')\n",
    "wash = read.csv('washington.csv')\n",
    "chi = read.csv('chicago.csv')"
   ]
  },
  {
   "cell_type": "code",
   "execution_count": 36,
   "metadata": {
    "scrolled": true
   },
   "outputs": [
    {
     "data": {
      "text/html": [
       "<table>\n",
       "<thead><tr><th scope=col>X</th><th scope=col>Start.Time</th><th scope=col>End.Time</th><th scope=col>Trip.Duration</th><th scope=col>Start.Station</th><th scope=col>End.Station</th><th scope=col>User.Type</th><th scope=col>Gender</th><th scope=col>Birth.Year</th></tr></thead>\n",
       "<tbody>\n",
       "\t<tr><td>5688089                                       </td><td>2017-06-11 14:55:05                           </td><td>2017-06-11 15:08:21                           </td><td> 795                                          </td><td>Suffolk St &amp; Stanton St                   </td><td>W Broadway &amp; Spring St                    </td><td>Subscriber                                    </td><td><span style=white-space:pre-wrap>Male  </span></td><td>1998                                          </td></tr>\n",
       "\t<tr><td>4096714                                                           </td><td>2017-05-11 15:30:11                                               </td><td>2017-05-11 15:41:43                                               </td><td> 692                                                              </td><td>Lexington Ave &amp; E 63 St                                       </td><td><span style=white-space:pre-wrap>1 Ave &amp; E 78 St       </span></td><td>Subscriber                                                        </td><td><span style=white-space:pre-wrap>Male  </span>                    </td><td>1981                                                              </td></tr>\n",
       "\t<tr><td>2173887                                                            </td><td>2017-03-29 13:26:26                                                </td><td>2017-03-29 13:48:31                                                </td><td>1325                                                               </td><td><span style=white-space:pre-wrap>1 Pl &amp; Clinton St      </span></td><td><span style=white-space:pre-wrap>Henry St &amp; Degraw St  </span> </td><td>Subscriber                                                         </td><td><span style=white-space:pre-wrap>Male  </span>                     </td><td>1987                                                               </td></tr>\n",
       "\t<tr><td>3945638                                                            </td><td>2017-05-08 19:47:18                                                </td><td>2017-05-08 19:59:01                                                </td><td> 703                                                               </td><td><span style=white-space:pre-wrap>Barrow St &amp; Hudson St  </span></td><td><span style=white-space:pre-wrap>W 20 St &amp; 8 Ave       </span> </td><td>Subscriber                                                         </td><td>Female                                                             </td><td>1986                                                               </td></tr>\n",
       "\t<tr><td>6208972                                                            </td><td>2017-06-21 07:49:16                                                </td><td>2017-06-21 07:54:46                                                </td><td> 329                                                               </td><td><span style=white-space:pre-wrap>1 Ave &amp; E 44 St        </span></td><td><span style=white-space:pre-wrap>E 53 St &amp; 3 Ave       </span> </td><td>Subscriber                                                         </td><td><span style=white-space:pre-wrap>Male  </span>                     </td><td>1992                                                               </td></tr>\n",
       "\t<tr><td>1285652                                                            </td><td>2017-02-22 18:55:24                                                </td><td>2017-02-22 19:12:03                                                </td><td> 998                                                               </td><td><span style=white-space:pre-wrap>State St &amp; Smith St    </span></td><td><span style=white-space:pre-wrap>Bond St &amp; Fulton St   </span> </td><td>Subscriber                                                         </td><td><span style=white-space:pre-wrap>Male  </span>                     </td><td>1986                                                               </td></tr>\n",
       "</tbody>\n",
       "</table>\n"
      ],
      "text/latex": [
       "\\begin{tabular}{r|lllllllll}\n",
       " X & Start.Time & End.Time & Trip.Duration & Start.Station & End.Station & User.Type & Gender & Birth.Year\\\\\n",
       "\\hline\n",
       "\t 5688089                   & 2017-06-11 14:55:05       & 2017-06-11 15:08:21       &  795                      & Suffolk St \\& Stanton St & W Broadway \\& Spring St  & Subscriber                & Male                      & 1998                     \\\\\n",
       "\t 4096714                   & 2017-05-11 15:30:11       & 2017-05-11 15:41:43       &  692                      & Lexington Ave \\& E 63 St & 1 Ave \\& E 78 St         & Subscriber                & Male                      & 1981                     \\\\\n",
       "\t 2173887                   & 2017-03-29 13:26:26       & 2017-03-29 13:48:31       & 1325                      & 1 Pl \\& Clinton St       & Henry St \\& Degraw St    & Subscriber                & Male                      & 1987                     \\\\\n",
       "\t 3945638                   & 2017-05-08 19:47:18       & 2017-05-08 19:59:01       &  703                      & Barrow St \\& Hudson St   & W 20 St \\& 8 Ave         & Subscriber                & Female                    & 1986                     \\\\\n",
       "\t 6208972                   & 2017-06-21 07:49:16       & 2017-06-21 07:54:46       &  329                      & 1 Ave \\& E 44 St         & E 53 St \\& 3 Ave         & Subscriber                & Male                      & 1992                     \\\\\n",
       "\t 1285652                   & 2017-02-22 18:55:24       & 2017-02-22 19:12:03       &  998                      & State St \\& Smith St     & Bond St \\& Fulton St     & Subscriber                & Male                      & 1986                     \\\\\n",
       "\\end{tabular}\n"
      ],
      "text/markdown": [
       "\n",
       "| X | Start.Time | End.Time | Trip.Duration | Start.Station | End.Station | User.Type | Gender | Birth.Year |\n",
       "|---|---|---|---|---|---|---|---|---|\n",
       "| 5688089                 | 2017-06-11 14:55:05     | 2017-06-11 15:08:21     |  795                    | Suffolk St & Stanton St | W Broadway & Spring St  | Subscriber              | Male                    | 1998                    |\n",
       "| 4096714                 | 2017-05-11 15:30:11     | 2017-05-11 15:41:43     |  692                    | Lexington Ave & E 63 St | 1 Ave & E 78 St         | Subscriber              | Male                    | 1981                    |\n",
       "| 2173887                 | 2017-03-29 13:26:26     | 2017-03-29 13:48:31     | 1325                    | 1 Pl & Clinton St       | Henry St & Degraw St    | Subscriber              | Male                    | 1987                    |\n",
       "| 3945638                 | 2017-05-08 19:47:18     | 2017-05-08 19:59:01     |  703                    | Barrow St & Hudson St   | W 20 St & 8 Ave         | Subscriber              | Female                  | 1986                    |\n",
       "| 6208972                 | 2017-06-21 07:49:16     | 2017-06-21 07:54:46     |  329                    | 1 Ave & E 44 St         | E 53 St & 3 Ave         | Subscriber              | Male                    | 1992                    |\n",
       "| 1285652                 | 2017-02-22 18:55:24     | 2017-02-22 19:12:03     |  998                    | State St & Smith St     | Bond St & Fulton St     | Subscriber              | Male                    | 1986                    |\n",
       "\n"
      ],
      "text/plain": [
       "  X       Start.Time          End.Time            Trip.Duration\n",
       "1 5688089 2017-06-11 14:55:05 2017-06-11 15:08:21  795         \n",
       "2 4096714 2017-05-11 15:30:11 2017-05-11 15:41:43  692         \n",
       "3 2173887 2017-03-29 13:26:26 2017-03-29 13:48:31 1325         \n",
       "4 3945638 2017-05-08 19:47:18 2017-05-08 19:59:01  703         \n",
       "5 6208972 2017-06-21 07:49:16 2017-06-21 07:54:46  329         \n",
       "6 1285652 2017-02-22 18:55:24 2017-02-22 19:12:03  998         \n",
       "  Start.Station           End.Station            User.Type  Gender Birth.Year\n",
       "1 Suffolk St & Stanton St W Broadway & Spring St Subscriber Male   1998      \n",
       "2 Lexington Ave & E 63 St 1 Ave & E 78 St        Subscriber Male   1981      \n",
       "3 1 Pl & Clinton St       Henry St & Degraw St   Subscriber Male   1987      \n",
       "4 Barrow St & Hudson St   W 20 St & 8 Ave        Subscriber Female 1986      \n",
       "5 1 Ave & E 44 St         E 53 St & 3 Ave        Subscriber Male   1992      \n",
       "6 State St & Smith St     Bond St & Fulton St    Subscriber Male   1986      "
      ]
     },
     "metadata": {},
     "output_type": "display_data"
    }
   ],
   "source": [
    "head(ny)"
   ]
  },
  {
   "cell_type": "code",
   "execution_count": 37,
   "metadata": {},
   "outputs": [
    {
     "data": {
      "text/html": [
       "<table>\n",
       "<thead><tr><th scope=col>X</th><th scope=col>Start.Time</th><th scope=col>End.Time</th><th scope=col>Trip.Duration</th><th scope=col>Start.Station</th><th scope=col>End.Station</th><th scope=col>User.Type</th></tr></thead>\n",
       "<tbody>\n",
       "\t<tr><td>1621326                                                                                        </td><td>2017-06-21 08:36:34                                                                            </td><td>2017-06-21 08:44:43                                                                            </td><td> 489.066                                                                                       </td><td><span style=white-space:pre-wrap>14th &amp; Belmont St NW                       </span>        </td><td><span style=white-space:pre-wrap>15th &amp; K St NW                                     </span></td><td>Subscriber                                                                                     </td></tr>\n",
       "\t<tr><td> 482740                                                                                        </td><td>2017-03-11 10:40:00                                                                            </td><td>2017-03-11 10:46:00                                                                            </td><td> 402.549                                                                                       </td><td><span style=white-space:pre-wrap>Yuma St &amp; Tenley Circle NW                 </span>        </td><td><span style=white-space:pre-wrap>Connecticut Ave &amp; Yuma St NW                       </span></td><td>Subscriber                                                                                     </td></tr>\n",
       "\t<tr><td>1330037                                                                                        </td><td>2017-05-30 01:02:59                                                                            </td><td>2017-05-30 01:13:37                                                                            </td><td> 637.251                                                                                       </td><td><span style=white-space:pre-wrap>17th St &amp; Massachusetts Ave NW             </span>        </td><td><span style=white-space:pre-wrap>5th &amp; K St NW                                      </span></td><td>Subscriber                                                                                     </td></tr>\n",
       "\t<tr><td> 665458                                                                                        </td><td>2017-04-02 07:48:35                                                                            </td><td>2017-04-02 08:19:03                                                                            </td><td>1827.341                                                                                       </td><td><span style=white-space:pre-wrap>Constitution Ave &amp; 2nd St NW/DOL           </span>        </td><td><span style=white-space:pre-wrap>M St &amp; Pennsylvania Ave NW                         </span></td><td><span style=white-space:pre-wrap>Customer  </span>                                             </td></tr>\n",
       "\t<tr><td>1481135                                                                                        </td><td>2017-06-10 08:36:28                                                                            </td><td>2017-06-10 09:02:17                                                                            </td><td>1549.427                                                                                       </td><td>Henry Bacon Dr &amp; Lincoln Memorial Circle NW                                                </td><td><span style=white-space:pre-wrap>Maine Ave &amp; 7th St SW                              </span></td><td>Subscriber                                                                                     </td></tr>\n",
       "\t<tr><td>1148202                                                                                </td><td>2017-05-14 07:18:18                                                                    </td><td>2017-05-14 07:24:56                                                                    </td><td> 398.000                                                                               </td><td><span style=white-space:pre-wrap>1st &amp; K St SE                              </span></td><td>Eastern Market Metro / Pennsylvania Ave &amp; 7th St SE                                </td><td>Subscriber                                                                             </td></tr>\n",
       "</tbody>\n",
       "</table>\n"
      ],
      "text/latex": [
       "\\begin{tabular}{r|lllllll}\n",
       " X & Start.Time & End.Time & Trip.Duration & Start.Station & End.Station & User.Type\\\\\n",
       "\\hline\n",
       "\t 1621326                                               & 2017-06-21 08:36:34                                   & 2017-06-21 08:44:43                                   &  489.066                                              & 14th \\& Belmont St NW                                & 15th \\& K St NW                                      & Subscriber                                           \\\\\n",
       "\t  482740                                               & 2017-03-11 10:40:00                                   & 2017-03-11 10:46:00                                   &  402.549                                              & Yuma St \\& Tenley Circle NW                          & Connecticut Ave \\& Yuma St NW                        & Subscriber                                           \\\\\n",
       "\t 1330037                                               & 2017-05-30 01:02:59                                   & 2017-05-30 01:13:37                                   &  637.251                                              & 17th St \\& Massachusetts Ave NW                      & 5th \\& K St NW                                       & Subscriber                                           \\\\\n",
       "\t  665458                                               & 2017-04-02 07:48:35                                   & 2017-04-02 08:19:03                                   & 1827.341                                              & Constitution Ave \\& 2nd St NW/DOL                    & M St \\& Pennsylvania Ave NW                          & Customer                                             \\\\\n",
       "\t 1481135                                               & 2017-06-10 08:36:28                                   & 2017-06-10 09:02:17                                   & 1549.427                                              & Henry Bacon Dr \\& Lincoln Memorial Circle NW         & Maine Ave \\& 7th St SW                               & Subscriber                                           \\\\\n",
       "\t 1148202                                               & 2017-05-14 07:18:18                                   & 2017-05-14 07:24:56                                   &  398.000                                              & 1st \\& K St SE                                       & Eastern Market Metro / Pennsylvania Ave \\& 7th St SE & Subscriber                                           \\\\\n",
       "\\end{tabular}\n"
      ],
      "text/markdown": [
       "\n",
       "| X | Start.Time | End.Time | Trip.Duration | Start.Station | End.Station | User.Type |\n",
       "|---|---|---|---|---|---|---|\n",
       "| 1621326                                             | 2017-06-21 08:36:34                                 | 2017-06-21 08:44:43                                 |  489.066                                            | 14th & Belmont St NW                                | 15th & K St NW                                      | Subscriber                                          |\n",
       "|  482740                                             | 2017-03-11 10:40:00                                 | 2017-03-11 10:46:00                                 |  402.549                                            | Yuma St & Tenley Circle NW                          | Connecticut Ave & Yuma St NW                        | Subscriber                                          |\n",
       "| 1330037                                             | 2017-05-30 01:02:59                                 | 2017-05-30 01:13:37                                 |  637.251                                            | 17th St & Massachusetts Ave NW                      | 5th & K St NW                                       | Subscriber                                          |\n",
       "|  665458                                             | 2017-04-02 07:48:35                                 | 2017-04-02 08:19:03                                 | 1827.341                                            | Constitution Ave & 2nd St NW/DOL                    | M St & Pennsylvania Ave NW                          | Customer                                            |\n",
       "| 1481135                                             | 2017-06-10 08:36:28                                 | 2017-06-10 09:02:17                                 | 1549.427                                            | Henry Bacon Dr & Lincoln Memorial Circle NW         | Maine Ave & 7th St SW                               | Subscriber                                          |\n",
       "| 1148202                                             | 2017-05-14 07:18:18                                 | 2017-05-14 07:24:56                                 |  398.000                                            | 1st & K St SE                                       | Eastern Market Metro / Pennsylvania Ave & 7th St SE | Subscriber                                          |\n",
       "\n"
      ],
      "text/plain": [
       "  X       Start.Time          End.Time            Trip.Duration\n",
       "1 1621326 2017-06-21 08:36:34 2017-06-21 08:44:43  489.066     \n",
       "2  482740 2017-03-11 10:40:00 2017-03-11 10:46:00  402.549     \n",
       "3 1330037 2017-05-30 01:02:59 2017-05-30 01:13:37  637.251     \n",
       "4  665458 2017-04-02 07:48:35 2017-04-02 08:19:03 1827.341     \n",
       "5 1481135 2017-06-10 08:36:28 2017-06-10 09:02:17 1549.427     \n",
       "6 1148202 2017-05-14 07:18:18 2017-05-14 07:24:56  398.000     \n",
       "  Start.Station                              \n",
       "1 14th & Belmont St NW                       \n",
       "2 Yuma St & Tenley Circle NW                 \n",
       "3 17th St & Massachusetts Ave NW             \n",
       "4 Constitution Ave & 2nd St NW/DOL           \n",
       "5 Henry Bacon Dr & Lincoln Memorial Circle NW\n",
       "6 1st & K St SE                              \n",
       "  End.Station                                         User.Type \n",
       "1 15th & K St NW                                      Subscriber\n",
       "2 Connecticut Ave & Yuma St NW                        Subscriber\n",
       "3 5th & K St NW                                       Subscriber\n",
       "4 M St & Pennsylvania Ave NW                          Customer  \n",
       "5 Maine Ave & 7th St SW                               Subscriber\n",
       "6 Eastern Market Metro / Pennsylvania Ave & 7th St SE Subscriber"
      ]
     },
     "metadata": {},
     "output_type": "display_data"
    }
   ],
   "source": [
    "head(wash)"
   ]
  },
  {
   "cell_type": "code",
   "execution_count": 38,
   "metadata": {
    "scrolled": true
   },
   "outputs": [
    {
     "data": {
      "text/html": [
       "<table>\n",
       "<thead><tr><th scope=col>X</th><th scope=col>Start.Time</th><th scope=col>End.Time</th><th scope=col>Trip.Duration</th><th scope=col>Start.Station</th><th scope=col>End.Station</th><th scope=col>User.Type</th><th scope=col>Gender</th><th scope=col>Birth.Year</th></tr></thead>\n",
       "<tbody>\n",
       "\t<tr><td>1423854                                                                  </td><td>2017-06-23 15:09:32                                                      </td><td>2017-06-23 15:14:53                                                      </td><td> 321                                                                     </td><td><span style=white-space:pre-wrap>Wood St &amp; Hubbard St         </span></td><td><span style=white-space:pre-wrap>Damen Ave &amp; Chicago Ave     </span> </td><td>Subscriber                                                               </td><td><span style=white-space:pre-wrap>Male  </span>                           </td><td>1992                                                                     </td></tr>\n",
       "\t<tr><td> 955915                                                              </td><td>2017-05-25 18:19:03                                                  </td><td>2017-05-25 18:45:53                                                  </td><td>1610                                                                 </td><td><span style=white-space:pre-wrap>Theater on the Lake          </span></td><td>Sheffield Ave &amp; Waveland Ave                                     </td><td>Subscriber                                                           </td><td>Female                                                               </td><td>1992                                                                 </td></tr>\n",
       "\t<tr><td><span style=white-space:pre-wrap>   9031</span>                          </td><td>2017-01-04 08:27:49                                                      </td><td>2017-01-04 08:34:45                                                      </td><td> 416                                                                     </td><td><span style=white-space:pre-wrap>May St &amp; Taylor St           </span></td><td><span style=white-space:pre-wrap>Wood St &amp; Taylor St         </span> </td><td>Subscriber                                                               </td><td><span style=white-space:pre-wrap>Male  </span>                           </td><td>1981                                                                     </td></tr>\n",
       "\t<tr><td> 304487                                       </td><td>2017-03-06 13:49:38                           </td><td>2017-03-06 13:55:28                           </td><td> 350                                          </td><td>Christiana Ave &amp; Lawrence Ave             </td><td>St. Louis Ave &amp; Balmoral Ave              </td><td>Subscriber                                    </td><td><span style=white-space:pre-wrap>Male  </span></td><td>1986                                          </td></tr>\n",
       "\t<tr><td><span style=white-space:pre-wrap>  45207</span>                          </td><td>2017-01-17 14:53:07                                                      </td><td>2017-01-17 15:02:01                                                      </td><td> 534                                                                     </td><td><span style=white-space:pre-wrap>Clark St &amp; Randolph St       </span></td><td>Desplaines St &amp; Jackson Blvd                                         </td><td>Subscriber                                                               </td><td><span style=white-space:pre-wrap>Male  </span>                           </td><td>1975                                                                     </td></tr>\n",
       "\t<tr><td>1473887                                                                 </td><td>2017-06-26 09:01:20                                                     </td><td>2017-06-26 09:11:06                                                     </td><td> 586                                                                    </td><td>Clinton St &amp; Washington Blvd                                        </td><td><span style=white-space:pre-wrap>Canal St &amp; Taylor St        </span></td><td>Subscriber                                                              </td><td><span style=white-space:pre-wrap>Male  </span>                          </td><td>1990                                                                    </td></tr>\n",
       "</tbody>\n",
       "</table>\n"
      ],
      "text/latex": [
       "\\begin{tabular}{r|lllllllll}\n",
       " X & Start.Time & End.Time & Trip.Duration & Start.Station & End.Station & User.Type & Gender & Birth.Year\\\\\n",
       "\\hline\n",
       "\t 1423854                         & 2017-06-23 15:09:32             & 2017-06-23 15:14:53             &  321                            & Wood St \\& Hubbard St          & Damen Ave \\& Chicago Ave       & Subscriber                      & Male                            & 1992                           \\\\\n",
       "\t  955915                        & 2017-05-25 18:19:03            & 2017-05-25 18:45:53            & 1610                           & Theater on the Lake            & Sheffield Ave \\& Waveland Ave & Subscriber                     & Female                         & 1992                          \\\\\n",
       "\t    9031                         & 2017-01-04 08:27:49             & 2017-01-04 08:34:45             &  416                            & May St \\& Taylor St            & Wood St \\& Taylor St           & Subscriber                      & Male                            & 1981                           \\\\\n",
       "\t  304487                         & 2017-03-06 13:49:38             & 2017-03-06 13:55:28             &  350                            & Christiana Ave \\& Lawrence Ave & St. Louis Ave \\& Balmoral Ave  & Subscriber                      & Male                            & 1986                           \\\\\n",
       "\t   45207                         & 2017-01-17 14:53:07             & 2017-01-17 15:02:01             &  534                            & Clark St \\& Randolph St        & Desplaines St \\& Jackson Blvd  & Subscriber                      & Male                            & 1975                           \\\\\n",
       "\t 1473887                         & 2017-06-26 09:01:20             & 2017-06-26 09:11:06             &  586                            & Clinton St \\& Washington Blvd  & Canal St \\& Taylor St          & Subscriber                      & Male                            & 1990                           \\\\\n",
       "\\end{tabular}\n"
      ],
      "text/markdown": [
       "\n",
       "| X | Start.Time | End.Time | Trip.Duration | Start.Station | End.Station | User.Type | Gender | Birth.Year |\n",
       "|---|---|---|---|---|---|---|---|---|\n",
       "| 1423854                       | 2017-06-23 15:09:32           | 2017-06-23 15:14:53           |  321                          | Wood St & Hubbard St          | Damen Ave & Chicago Ave       | Subscriber                    | Male                          | 1992                          |\n",
       "|  955915                       | 2017-05-25 18:19:03           | 2017-05-25 18:45:53           | 1610                          | Theater on the Lake           | Sheffield Ave & Waveland Ave  | Subscriber                    | Female                        | 1992                          |\n",
       "|    9031                       | 2017-01-04 08:27:49           | 2017-01-04 08:34:45           |  416                          | May St & Taylor St            | Wood St & Taylor St           | Subscriber                    | Male                          | 1981                          |\n",
       "|  304487                       | 2017-03-06 13:49:38           | 2017-03-06 13:55:28           |  350                          | Christiana Ave & Lawrence Ave | St. Louis Ave & Balmoral Ave  | Subscriber                    | Male                          | 1986                          |\n",
       "|   45207                       | 2017-01-17 14:53:07           | 2017-01-17 15:02:01           |  534                          | Clark St & Randolph St        | Desplaines St & Jackson Blvd  | Subscriber                    | Male                          | 1975                          |\n",
       "| 1473887                       | 2017-06-26 09:01:20           | 2017-06-26 09:11:06           |  586                          | Clinton St & Washington Blvd  | Canal St & Taylor St          | Subscriber                    | Male                          | 1990                          |\n",
       "\n"
      ],
      "text/plain": [
       "  X       Start.Time          End.Time            Trip.Duration\n",
       "1 1423854 2017-06-23 15:09:32 2017-06-23 15:14:53  321         \n",
       "2  955915 2017-05-25 18:19:03 2017-05-25 18:45:53 1610         \n",
       "3    9031 2017-01-04 08:27:49 2017-01-04 08:34:45  416         \n",
       "4  304487 2017-03-06 13:49:38 2017-03-06 13:55:28  350         \n",
       "5   45207 2017-01-17 14:53:07 2017-01-17 15:02:01  534         \n",
       "6 1473887 2017-06-26 09:01:20 2017-06-26 09:11:06  586         \n",
       "  Start.Station                 End.Station                  User.Type  Gender\n",
       "1 Wood St & Hubbard St          Damen Ave & Chicago Ave      Subscriber Male  \n",
       "2 Theater on the Lake           Sheffield Ave & Waveland Ave Subscriber Female\n",
       "3 May St & Taylor St            Wood St & Taylor St          Subscriber Male  \n",
       "4 Christiana Ave & Lawrence Ave St. Louis Ave & Balmoral Ave Subscriber Male  \n",
       "5 Clark St & Randolph St        Desplaines St & Jackson Blvd Subscriber Male  \n",
       "6 Clinton St & Washington Blvd  Canal St & Taylor St         Subscriber Male  \n",
       "  Birth.Year\n",
       "1 1992      \n",
       "2 1992      \n",
       "3 1981      \n",
       "4 1986      \n",
       "5 1975      \n",
       "6 1990      "
      ]
     },
     "metadata": {},
     "output_type": "display_data"
    }
   ],
   "source": [
    "head(chi)"
   ]
  },
  {
   "cell_type": "markdown",
   "metadata": {},
   "source": [
    "### Question 1\n",
    "\n",
    "\n",
    "**Your question 1 goes here.**"
   ]
  },
  {
   "cell_type": "code",
   "execution_count": 39,
   "metadata": {},
   "outputs": [
    {
     "data": {
      "text/html": [
       "<ol class=list-inline>\n",
       "\t<li>'chicago.csv'</li>\n",
       "\t<li>'new_york_city.csv'</li>\n",
       "\t<li>'washington.csv'</li>\n",
       "</ol>\n"
      ],
      "text/latex": [
       "\\begin{enumerate*}\n",
       "\\item 'chicago.csv'\n",
       "\\item 'new\\_york\\_city.csv'\n",
       "\\item 'washington.csv'\n",
       "\\end{enumerate*}\n"
      ],
      "text/markdown": [
       "1. 'chicago.csv'\n",
       "2. 'new_york_city.csv'\n",
       "3. 'washington.csv'\n",
       "\n",
       "\n"
      ],
      "text/plain": [
       "[1] \"chicago.csv\"       \"new_york_city.csv\" \"washington.csv\"   "
      ]
     },
     "metadata": {},
     "output_type": "display_data"
    },
    {
     "data": {
      "text/html": [
       "<ol class=list-inline>\n",
       "\t<li>'X'</li>\n",
       "\t<li>'Start.Time'</li>\n",
       "\t<li>'End.Time'</li>\n",
       "\t<li>'Trip.Duration'</li>\n",
       "\t<li>'Start.Station'</li>\n",
       "\t<li>'End.Station'</li>\n",
       "\t<li>'User.Type'</li>\n",
       "\t<li>'Gender'</li>\n",
       "\t<li>'Birth.Year'</li>\n",
       "</ol>\n"
      ],
      "text/latex": [
       "\\begin{enumerate*}\n",
       "\\item 'X'\n",
       "\\item 'Start.Time'\n",
       "\\item 'End.Time'\n",
       "\\item 'Trip.Duration'\n",
       "\\item 'Start.Station'\n",
       "\\item 'End.Station'\n",
       "\\item 'User.Type'\n",
       "\\item 'Gender'\n",
       "\\item 'Birth.Year'\n",
       "\\end{enumerate*}\n"
      ],
      "text/markdown": [
       "1. 'X'\n",
       "2. 'Start.Time'\n",
       "3. 'End.Time'\n",
       "4. 'Trip.Duration'\n",
       "5. 'Start.Station'\n",
       "6. 'End.Station'\n",
       "7. 'User.Type'\n",
       "8. 'Gender'\n",
       "9. 'Birth.Year'\n",
       "\n",
       "\n"
      ],
      "text/plain": [
       "[1] \"X\"             \"Start.Time\"    \"End.Time\"      \"Trip.Duration\"\n",
       "[5] \"Start.Station\" \"End.Station\"   \"User.Type\"     \"Gender\"       \n",
       "[9] \"Birth.Year\"   "
      ]
     },
     "metadata": {},
     "output_type": "display_data"
    },
    {
     "name": "stdout",
     "output_type": "stream",
     "text": [
      "Observations: 152,451\n",
      "Variables: 9\n",
      "$ X             <int> 1423854, 955915, 9031, 304487, 45207, 1473887, 961916, …\n",
      "$ Start.Time    <chr> \"2017-06-23 15:09:32\", \"2017-05-25 18:19:03\", \"2017-01-…\n",
      "$ End.Time      <chr> \"2017-06-23 15:14:53\", \"2017-05-25 18:45:53\", \"2017-01-…\n",
      "$ Trip.Duration <dbl> 321, 1610, 416, 350, 534, 586, 281, 723, 689, 493, 301,…\n",
      "$ Start.Station <chr> \"Wood St & Hubbard St\", \"Theater on the Lake\", \"May St …\n",
      "$ End.Station   <chr> \"Damen Ave & Chicago Ave\", \"Sheffield Ave & Waveland Av…\n",
      "$ User.Type     <chr> \"Subscriber\", \"Subscriber\", \"Subscriber\", \"Subscriber\",…\n",
      "$ Gender        <chr> \"Male\", \"Female\", \"Male\", \"Male\", \"Male\", \"Male\", \"Fema…\n",
      "$ Birth.Year    <dbl> 1992, 1992, 1981, 1986, 1975, 1990, 1983, NA, 1984, 197…\n"
     ]
    }
   ],
   "source": [
    "file_names = list.files(pattern = \".csv\")\n",
    "file_names\n",
    " \n",
    "# Read data (this will take a second)\n",
    "df_list = lapply(file_names,\n",
    "                 function(x) read.csv(x, stringsAsFactors = FALSE))\n",
    "\n",
    "# Assign names to data frames in the list\n",
    "names(df_list) = file_names\n",
    "                 \n",
    "# Extract column names from the first data frame\n",
    "names(df_list[[1]])\n",
    "                 \n",
    "\n",
    "# Bind data frames by rows\n",
    "library(dplyr)   # for data manipulation\n",
    "df = bind_rows(df_list)\n",
    "\n",
    "# Glimpse at df\n",
    "glimpse(df)               \n",
    "                 "
   ]
  },
  {
   "cell_type": "code",
   "execution_count": 40,
   "metadata": {
    "scrolled": true
   },
   "outputs": [
    {
     "name": "stdout",
     "output_type": "stream",
     "text": [
      "Observations: 152,451\n",
      "Variables: 9\n",
      "$ X             <int> 1423854, 955915, 9031, 304487, 45207, 1473887, 961916, …\n",
      "$ Start.Time    <chr> \"2017-06-23 15:09:32\", \"2017-05-25 18:19:03\", \"2017-01-…\n",
      "$ End.Time      <chr> \"2017-06-23 15:14:53\", \"2017-05-25 18:45:53\", \"2017-01-…\n",
      "$ Trip.Duration <dbl> 321, 1610, 416, 350, 534, 586, 281, 723, 689, 493, 301,…\n",
      "$ Start.Station <chr> \"Wood St & Hubbard St\", \"Theater on the Lake\", \"May St …\n",
      "$ End.Station   <chr> \"Damen Ave & Chicago Ave\", \"Sheffield Ave & Waveland Av…\n",
      "$ User.Type     <chr> \"Subscriber\", \"Subscriber\", \"Subscriber\", \"Subscriber\",…\n",
      "$ Gender        <chr> \"Male\", \"Female\", \"Male\", \"Male\", \"Male\", \"Male\", \"Fema…\n",
      "$ Birth.Year    <dbl> 1992, 1992, 1981, 1986, 1975, 1990, 1983, NA, 1984, 197…\n"
     ]
    },
    {
     "data": {
      "text/html": [
       "<table>\n",
       "<thead><tr><th scope=col>X</th><th scope=col>Start.Time</th><th scope=col>End.Time</th><th scope=col>Trip.Duration</th><th scope=col>Start.Station</th><th scope=col>End.Station</th><th scope=col>User.Type</th><th scope=col>Gender</th><th scope=col>Birth.Year</th></tr></thead>\n",
       "<tbody>\n",
       "\t<tr><td>1423854                                                                  </td><td>2017-06-23 15:09:32                                                      </td><td>2017-06-23 15:14:53                                                      </td><td> 321                                                                     </td><td><span style=white-space:pre-wrap>Wood St &amp; Hubbard St         </span></td><td><span style=white-space:pre-wrap>Damen Ave &amp; Chicago Ave     </span> </td><td>Subscriber                                                               </td><td><span style=white-space:pre-wrap>Male  </span>                           </td><td>1992                                                                     </td></tr>\n",
       "\t<tr><td> 955915                                                              </td><td>2017-05-25 18:19:03                                                  </td><td>2017-05-25 18:45:53                                                  </td><td>1610                                                                 </td><td><span style=white-space:pre-wrap>Theater on the Lake          </span></td><td>Sheffield Ave &amp; Waveland Ave                                     </td><td>Subscriber                                                           </td><td>Female                                                               </td><td>1992                                                                 </td></tr>\n",
       "\t<tr><td><span style=white-space:pre-wrap>   9031</span>                          </td><td>2017-01-04 08:27:49                                                      </td><td>2017-01-04 08:34:45                                                      </td><td> 416                                                                     </td><td><span style=white-space:pre-wrap>May St &amp; Taylor St           </span></td><td><span style=white-space:pre-wrap>Wood St &amp; Taylor St         </span> </td><td>Subscriber                                                               </td><td><span style=white-space:pre-wrap>Male  </span>                           </td><td>1981                                                                     </td></tr>\n",
       "\t<tr><td> 304487                                       </td><td>2017-03-06 13:49:38                           </td><td>2017-03-06 13:55:28                           </td><td> 350                                          </td><td>Christiana Ave &amp; Lawrence Ave             </td><td>St. Louis Ave &amp; Balmoral Ave              </td><td>Subscriber                                    </td><td><span style=white-space:pre-wrap>Male  </span></td><td>1986                                          </td></tr>\n",
       "\t<tr><td><span style=white-space:pre-wrap>  45207</span>                          </td><td>2017-01-17 14:53:07                                                      </td><td>2017-01-17 15:02:01                                                      </td><td> 534                                                                     </td><td><span style=white-space:pre-wrap>Clark St &amp; Randolph St       </span></td><td>Desplaines St &amp; Jackson Blvd                                         </td><td>Subscriber                                                               </td><td><span style=white-space:pre-wrap>Male  </span>                           </td><td>1975                                                                     </td></tr>\n",
       "\t<tr><td>1473887                                                                 </td><td>2017-06-26 09:01:20                                                     </td><td>2017-06-26 09:11:06                                                     </td><td> 586                                                                    </td><td>Clinton St &amp; Washington Blvd                                        </td><td><span style=white-space:pre-wrap>Canal St &amp; Taylor St        </span></td><td>Subscriber                                                              </td><td><span style=white-space:pre-wrap>Male  </span>                          </td><td>1990                                                                    </td></tr>\n",
       "</tbody>\n",
       "</table>\n"
      ],
      "text/latex": [
       "\\begin{tabular}{r|lllllllll}\n",
       " X & Start.Time & End.Time & Trip.Duration & Start.Station & End.Station & User.Type & Gender & Birth.Year\\\\\n",
       "\\hline\n",
       "\t 1423854                         & 2017-06-23 15:09:32             & 2017-06-23 15:14:53             &  321                            & Wood St \\& Hubbard St          & Damen Ave \\& Chicago Ave       & Subscriber                      & Male                            & 1992                           \\\\\n",
       "\t  955915                        & 2017-05-25 18:19:03            & 2017-05-25 18:45:53            & 1610                           & Theater on the Lake            & Sheffield Ave \\& Waveland Ave & Subscriber                     & Female                         & 1992                          \\\\\n",
       "\t    9031                         & 2017-01-04 08:27:49             & 2017-01-04 08:34:45             &  416                            & May St \\& Taylor St            & Wood St \\& Taylor St           & Subscriber                      & Male                            & 1981                           \\\\\n",
       "\t  304487                         & 2017-03-06 13:49:38             & 2017-03-06 13:55:28             &  350                            & Christiana Ave \\& Lawrence Ave & St. Louis Ave \\& Balmoral Ave  & Subscriber                      & Male                            & 1986                           \\\\\n",
       "\t   45207                         & 2017-01-17 14:53:07             & 2017-01-17 15:02:01             &  534                            & Clark St \\& Randolph St        & Desplaines St \\& Jackson Blvd  & Subscriber                      & Male                            & 1975                           \\\\\n",
       "\t 1473887                         & 2017-06-26 09:01:20             & 2017-06-26 09:11:06             &  586                            & Clinton St \\& Washington Blvd  & Canal St \\& Taylor St          & Subscriber                      & Male                            & 1990                           \\\\\n",
       "\\end{tabular}\n"
      ],
      "text/markdown": [
       "\n",
       "| X | Start.Time | End.Time | Trip.Duration | Start.Station | End.Station | User.Type | Gender | Birth.Year |\n",
       "|---|---|---|---|---|---|---|---|---|\n",
       "| 1423854                       | 2017-06-23 15:09:32           | 2017-06-23 15:14:53           |  321                          | Wood St & Hubbard St          | Damen Ave & Chicago Ave       | Subscriber                    | Male                          | 1992                          |\n",
       "|  955915                       | 2017-05-25 18:19:03           | 2017-05-25 18:45:53           | 1610                          | Theater on the Lake           | Sheffield Ave & Waveland Ave  | Subscriber                    | Female                        | 1992                          |\n",
       "|    9031                       | 2017-01-04 08:27:49           | 2017-01-04 08:34:45           |  416                          | May St & Taylor St            | Wood St & Taylor St           | Subscriber                    | Male                          | 1981                          |\n",
       "|  304487                       | 2017-03-06 13:49:38           | 2017-03-06 13:55:28           |  350                          | Christiana Ave & Lawrence Ave | St. Louis Ave & Balmoral Ave  | Subscriber                    | Male                          | 1986                          |\n",
       "|   45207                       | 2017-01-17 14:53:07           | 2017-01-17 15:02:01           |  534                          | Clark St & Randolph St        | Desplaines St & Jackson Blvd  | Subscriber                    | Male                          | 1975                          |\n",
       "| 1473887                       | 2017-06-26 09:01:20           | 2017-06-26 09:11:06           |  586                          | Clinton St & Washington Blvd  | Canal St & Taylor St          | Subscriber                    | Male                          | 1990                          |\n",
       "\n"
      ],
      "text/plain": [
       "  X       Start.Time          End.Time            Trip.Duration\n",
       "1 1423854 2017-06-23 15:09:32 2017-06-23 15:14:53  321         \n",
       "2  955915 2017-05-25 18:19:03 2017-05-25 18:45:53 1610         \n",
       "3    9031 2017-01-04 08:27:49 2017-01-04 08:34:45  416         \n",
       "4  304487 2017-03-06 13:49:38 2017-03-06 13:55:28  350         \n",
       "5   45207 2017-01-17 14:53:07 2017-01-17 15:02:01  534         \n",
       "6 1473887 2017-06-26 09:01:20 2017-06-26 09:11:06  586         \n",
       "  Start.Station                 End.Station                  User.Type  Gender\n",
       "1 Wood St & Hubbard St          Damen Ave & Chicago Ave      Subscriber Male  \n",
       "2 Theater on the Lake           Sheffield Ave & Waveland Ave Subscriber Female\n",
       "3 May St & Taylor St            Wood St & Taylor St          Subscriber Male  \n",
       "4 Christiana Ave & Lawrence Ave St. Louis Ave & Balmoral Ave Subscriber Male  \n",
       "5 Clark St & Randolph St        Desplaines St & Jackson Blvd Subscriber Male  \n",
       "6 Clinton St & Washington Blvd  Canal St & Taylor St         Subscriber Male  \n",
       "  Birth.Year\n",
       "1 1992      \n",
       "2 1992      \n",
       "3 1981      \n",
       "4 1986      \n",
       "5 1975      \n",
       "6 1990      "
      ]
     },
     "metadata": {},
     "output_type": "display_data"
    },
    {
     "data": {
      "text/plain": [
       "df_month\n",
       "   01    02    03    04    05    06 \n",
       "15341 18857 19235 30709 31157 37151 "
      ]
     },
     "metadata": {},
     "output_type": "display_data"
    }
   ],
   "source": [
    "# Format data structure\n",
    "library(stringr) \n",
    "library(ggplot2)\n",
    "library(lubridate)\n",
    "\n",
    "glimpse(df)\n",
    "#Most common month\n",
    "\n",
    "head(df)\n",
    "df<-as.data.frame(df)\n",
    "df_month<- format(as.POSIXct(df$Start.Time, \"%Y-%m-%d %H:%M:%S\", tz = \"\"), format = \"%m\")\n",
    "table(df_month)\n",
    "\n"
   ]
  },
  {
   "cell_type": "code",
   "execution_count": 32,
   "metadata": {},
   "outputs": [
    {
     "ename": "ERROR",
     "evalue": "Error in xy.coords(x, y, recycle = TRUE, setLab = FALSE): argument \"x\" is missing, with no default\n",
     "output_type": "error",
     "traceback": [
      "Error in xy.coords(x, y, recycle = TRUE, setLab = FALSE): argument \"x\" is missing, with no default\nTraceback:\n",
      "1. text(label = , pos = 3, cex = 0.8, col = \"red\")",
      "2. text.default(label = , pos = 3, cex = 0.8, col = \"red\")",
      "3. xy.coords(x, y, recycle = TRUE, setLab = FALSE)"
     ]
    },
    {
     "data": {
      "image/png": "[encoded data removed]",
      "text/plain": [
       "plot without title"
      ]
     },
     "metadata": {},
     "output_type": "display_data"
    }
   ],
   "source": [
    "##Times of travel most common month\n",
    "month <- c(\"Jan\", \"Feb\", \"Mar\", \"Apr\", \"May\", \"Jun\")\n",
    "Counts <- c( 15341 ,18857, 19235 ,30709 ,31157 ,37151  )\n",
    "dt<-data.frame(Month<-month, Counts =Counts)\n",
    "ggplot(dt ,aes( Month,Counts )) + \n",
    "  geom_bar(stat=\"identity\",aes(fill = \"Time of travel by month\"), data =dt , alpha = 0.5 ) + ggtitle(\"Travel by Month\")\n",
    "+text(label = , pos = 3, cex = 0.8, col = \"red\")  \n",
    "## In terms of popular times of travel, June is the most common month. "
   ]
  },
  {
   "cell_type": "code",
   "execution_count": 41,
   "metadata": {},
   "outputs": [
    {
     "data": {
      "text/plain": [
       "df_weekday\n",
       "    0     1     2     3     4     5     6 \n",
       "19274 20593 22478 25080 23187 22379 19459 "
      ]
     },
     "metadata": {},
     "output_type": "display_data"
    }
   ],
   "source": [
    "df_weekday<- format(as.POSIXct(df$Start.Time, \"%Y-%m-%d %H:%M:%S\", tz = \"\"))\n",
    "df_weekday<-as.POSIXlt(df_weekday)$wday\n",
    "table(df_weekday)\n"
   ]
  },
  {
   "cell_type": "code",
   "execution_count": 42,
   "metadata": {
    "scrolled": true
   },
   "outputs": [
    {
     "ename": "ERROR",
     "evalue": "Error in xy.coords(x, y, recycle = TRUE, setLab = FALSE): argument \"x\" is missing, with no default\n",
     "output_type": "error",
     "traceback": [
      "Error in xy.coords(x, y, recycle = TRUE, setLab = FALSE): argument \"x\" is missing, with no default\nTraceback:\n",
      "1. text(label = , pos = 3, cex = 0.8, col = \"red\")",
      "2. text.default(label = , pos = 3, cex = 0.8, col = \"red\")",
      "3. xy.coords(x, y, recycle = TRUE, setLab = FALSE)"
     ]
    },
    {
     "data": {
      "image/png": "[encoded data removed]",
      "text/plain": [
       "plot without title"
      ]
     },
     "metadata": {},
     "output_type": "display_data"
    }
   ],
   "source": [
    "##Times of travel most common day of week\n",
    "Weekday <- c(\"Sun\", \"Mon\", \"Tues\", \"Wed\", \"Thurs\", \"Fri\",\"Sat\")\n",
    "Counts <- c( 19274, 20593, 22478 ,25080, 23187 ,22379, 19459  )\n",
    "dt<-data.frame(Weekday<-Weekday, Counts =Counts)\n",
    "ggplot(dt ,aes( Weekday,Counts )) + \n",
    "  geom_bar(stat=\"identity\",aes(fill = \"Time of travel by weekday\"), data =dt , alpha = 0.5 ) + ggtitle(\"Travel by Weekday\")\n",
    "+text(label = , pos = 3, cex = 0.8, col = \"red\")  \n",
    "## In terms of popular day of week fro travel , Wedneday is the most common day of week."
   ]
  },
  {
   "cell_type": "code",
   "execution_count": 47,
   "metadata": {},
   "outputs": [
    {
     "data": {
      "text/plain": [
       "df_hour\n",
       "   00    01    02    03    04    05    06    07    08    09    10    11    12 \n",
       "  718  3757  3591  3731  4642  7120  8449 11562 14835  9863  7579  8167  8917 \n",
       "   13    14    15    16    17    18    19    20    21    22    23 \n",
       " 5490  5397  6091  7444 10500  8988  5801  3886  2738  1965  1219 "
      ]
     },
     "metadata": {},
     "output_type": "display_data"
    },
    {
     "data": {
      "text/plain": [
       "df_hour\n",
       "   00    01    02    03    04    05    06    07    08    09    10    11    12 \n",
       "  718  3757  3591  3731  4642  7120  8449 11562 14835  9863  7579  8167  8917 \n",
       "   13    14    15    16    17    18    19    20    21    22    23 \n",
       " 5490  5397  6091  7444 10500  8988  5801  3886  2738  1965  1219 "
      ]
     },
     "metadata": {},
     "output_type": "display_data"
    }
   ],
   "source": [
    "df<-as.data.frame(df)\n",
    "df_hour <- format(as.POSIXct(df$Start.Time, \"%Y-%m-%d %H:%M:%S\", tz = \"\"))\n",
    "df_hour<-strftime(df_hour, format=\"%H\")\n",
    "table(df_hour)\n"
   ]
  },
  {
   "cell_type": "code",
   "execution_count": 55,
   "metadata": {},
   "outputs": [
    {
     "ename": "ERROR",
     "evalue": "Error in xy.coords(x, y, recycle = TRUE, setLab = FALSE): argument \"x\" is missing, with no default\n",
     "output_type": "error",
     "traceback": [
      "Error in xy.coords(x, y, recycle = TRUE, setLab = FALSE): argument \"x\" is missing, with no default\nTraceback:\n",
      "1. text(label = Counts, pos = 3, cex = 0.8, col = \"red\")",
      "2. text.default(label = Counts, pos = 3, cex = 0.8, col = \"red\")",
      "3. xy.coords(x, y, recycle = TRUE, setLab = FALSE)"
     ]
    },
    {
     "data": {
      "image/png": "[encoded data removed]",
      "text/plain": [
       "plot without title"
      ]
     },
     "metadata": {},
     "output_type": "display_data"
    }
   ],
   "source": [
    "##Times of travel most common hour of day\n",
    "Hour <- seq(0,23, by = 1) \n",
    "Counts <- c(718 ,3757 , 3591,  3731  ,4642 , 7120,  8449 ,11562, 14835 , 9863 , 7579 , 8167 , 8917 , 5490  ,5397 , 6091  ,7444, 10500 , 8988 , 5801 , 3886,  2738  ,1965 , 1219 )\n",
    "dt<-data.frame(Hour<-Hour, Counts =Counts)\n",
    "ggplot(dt ,aes( Hour,Counts )) + \n",
    "  geom_bar(stat=\"identity\",aes(fill = \"Time of travel by Hour\"), data =dt , alpha = 0.5 ) + ggtitle(\"Travel by Hour\")\n",
    "+text(label =Counts , pos = 3, cex = 0.8, col = \"red\")  \n",
    "## In terms of popular day of day for travel , 8am is the most common hour of day."
   ]
  },
  {
   "cell_type": "markdown",
   "metadata": {},
   "source": [
    "**Summary of your question 1 results goes here.**"
   ]
  },
  {
   "cell_type": "markdown",
   "metadata": {},
   "source": [
    "### Question 2\n",
    "\n",
    "**Your question 2 goes here.**"
   ]
  },
  {
   "cell_type": "code",
   "execution_count": 76,
   "metadata": {},
   "outputs": [
    {
     "data": {
      "text/html": [
       "<table>\n",
       "<thead><tr><th scope=col>X</th><th scope=col>Start.Time</th><th scope=col>End.Time</th><th scope=col>Trip.Duration</th><th scope=col>Start.Station</th><th scope=col>End.Station</th><th scope=col>User.Type</th><th scope=col>Gender</th><th scope=col>Birth.Year</th><th scope=col>commontrip</th><th scope=col>rank</th></tr></thead>\n",
       "<tbody>\n",
       "\t<tr><td>482740                                                         </td><td>2017-03-11 10:40:00                                            </td><td>2017-03-11 10:46:00                                            </td><td>402.549                                                        </td><td>Yuma St &amp; Tenley Circle NW                                 </td><td>Connecticut Ave &amp; Yuma St NW                               </td><td>Subscriber                                                     </td><td>NA                                                             </td><td>NA                                                             </td><td>Yuma St &amp; Tenley Circle NW Connecticut Ave &amp; Yuma St NW</td><td>1                                                              </td></tr>\n",
       "</tbody>\n",
       "</table>\n"
      ],
      "text/latex": [
       "\\begin{tabular}{r|lllllllllll}\n",
       " X & Start.Time & End.Time & Trip.Duration & Start.Station & End.Station & User.Type & Gender & Birth.Year & commontrip & rank\\\\\n",
       "\\hline\n",
       "\t 482740                                                      & 2017-03-11 10:40:00                                         & 2017-03-11 10:46:00                                         & 402.549                                                     & Yuma St \\& Tenley Circle NW                                & Connecticut Ave \\& Yuma St NW                              & Subscriber                                                  & NA                                                          & NA                                                          & Yuma St \\& Tenley Circle NW Connecticut Ave \\& Yuma St NW & 1                                                          \\\\\n",
       "\\end{tabular}\n"
      ],
      "text/markdown": [
       "\n",
       "| X | Start.Time | End.Time | Trip.Duration | Start.Station | End.Station | User.Type | Gender | Birth.Year | commontrip | rank |\n",
       "|---|---|---|---|---|---|---|---|---|---|---|\n",
       "| 482740                                                  | 2017-03-11 10:40:00                                     | 2017-03-11 10:46:00                                     | 402.549                                                 | Yuma St & Tenley Circle NW                              | Connecticut Ave & Yuma St NW                            | Subscriber                                              | NA                                                      | NA                                                      | Yuma St & Tenley Circle NW Connecticut Ave & Yuma St NW | 1                                                       |\n",
       "\n"
      ],
      "text/plain": [
       "  X      Start.Time          End.Time            Trip.Duration\n",
       "1 482740 2017-03-11 10:40:00 2017-03-11 10:46:00 402.549      \n",
       "  Start.Station              End.Station                  User.Type  Gender\n",
       "1 Yuma St & Tenley Circle NW Connecticut Ave & Yuma St NW Subscriber NA    \n",
       "  Birth.Year commontrip                                              rank\n",
       "1 NA         Yuma St & Tenley Circle NW Connecticut Ave & Yuma St NW 1   "
      ]
     },
     "metadata": {},
     "output_type": "display_data"
    }
   ],
   "source": [
    "# The most commmon Start station\n",
    "rank_Start.Station <- arrange(df, desc(Start.Station)) %>%\n",
    "          mutate(rank = 1:nrow(df))\n",
    "head(rank_Start.Station,1)\n",
    "# The most commmon Start station is Yuma St & Tenley Circle NW   "
   ]
  },
  {
   "cell_type": "code",
   "execution_count": 77,
   "metadata": {
    "scrolled": false
   },
   "outputs": [
    {
     "data": {
      "text/html": [
       "<table>\n",
       "<thead><tr><th scope=col>X</th><th scope=col>Start.Time</th><th scope=col>End.Time</th><th scope=col>Trip.Duration</th><th scope=col>Start.Station</th><th scope=col>End.Station</th><th scope=col>User.Type</th><th scope=col>Gender</th><th scope=col>Birth.Year</th><th scope=col>commontrip</th><th scope=col>rank</th></tr></thead>\n",
       "<tbody>\n",
       "\t<tr><td>1031737                                                         </td><td>2017-05-02 07:46:28                                             </td><td>2017-05-02 07:55:32                                             </td><td>544.052                                                         </td><td>Connecticut &amp; Nebraska Ave NW                               </td><td>Yuma St &amp; Tenley Circle NW                                  </td><td>Subscriber                                                      </td><td>NA                                                              </td><td>NA                                                              </td><td>Connecticut &amp; Nebraska Ave NW Yuma St &amp; Tenley Circle NW</td><td>1                                                               </td></tr>\n",
       "</tbody>\n",
       "</table>\n"
      ],
      "text/latex": [
       "\\begin{tabular}{r|lllllllllll}\n",
       " X & Start.Time & End.Time & Trip.Duration & Start.Station & End.Station & User.Type & Gender & Birth.Year & commontrip & rank\\\\\n",
       "\\hline\n",
       "\t 1031737                                                      & 2017-05-02 07:46:28                                          & 2017-05-02 07:55:32                                          & 544.052                                                      & Connecticut \\& Nebraska Ave NW                              & Yuma St \\& Tenley Circle NW                                 & Subscriber                                                   & NA                                                           & NA                                                           & Connecticut \\& Nebraska Ave NW Yuma St \\& Tenley Circle NW & 1                                                           \\\\\n",
       "\\end{tabular}\n"
      ],
      "text/markdown": [
       "\n",
       "| X | Start.Time | End.Time | Trip.Duration | Start.Station | End.Station | User.Type | Gender | Birth.Year | commontrip | rank |\n",
       "|---|---|---|---|---|---|---|---|---|---|---|\n",
       "| 1031737                                                  | 2017-05-02 07:46:28                                      | 2017-05-02 07:55:32                                      | 544.052                                                  | Connecticut & Nebraska Ave NW                            | Yuma St & Tenley Circle NW                               | Subscriber                                               | NA                                                       | NA                                                       | Connecticut & Nebraska Ave NW Yuma St & Tenley Circle NW | 1                                                        |\n",
       "\n"
      ],
      "text/plain": [
       "  X       Start.Time          End.Time            Trip.Duration\n",
       "1 1031737 2017-05-02 07:46:28 2017-05-02 07:55:32 544.052      \n",
       "  Start.Station                 End.Station                User.Type  Gender\n",
       "1 Connecticut & Nebraska Ave NW Yuma St & Tenley Circle NW Subscriber NA    \n",
       "  Birth.Year commontrip                                               rank\n",
       "1 NA         Connecticut & Nebraska Ave NW Yuma St & Tenley Circle NW 1   "
      ]
     },
     "metadata": {},
     "output_type": "display_data"
    }
   ],
   "source": [
    "# The most commmon End station\n",
    "rank_End.Station <- arrange(df, desc(End.Station)) %>%\n",
    "          mutate(rank = 1:nrow(df))\n",
    "head(rank_End.Station,1)\n",
    "# The most commmon End station is Yuma St & Tenley Circle NW "
   ]
  },
  {
   "cell_type": "code",
   "execution_count": 65,
   "metadata": {},
   "outputs": [
    {
     "data": {
      "text/html": [
       "<table>\n",
       "<thead><tr><th scope=col>X</th><th scope=col>Start.Time</th><th scope=col>End.Time</th><th scope=col>Trip.Duration</th><th scope=col>Start.Station</th><th scope=col>End.Station</th><th scope=col>User.Type</th><th scope=col>Gender</th><th scope=col>Birth.Year</th><th scope=col>commontrip</th><th scope=col>rank</th></tr></thead>\n",
       "<tbody>\n",
       "\t<tr><td>1253736                                                   </td><td>2017-05-23 03:15:47                                       </td><td>2017-05-23 03:41:45                                       </td><td>1557.887                                                  </td><td>Yuma St &amp; Tenley Circle NW                            </td><td>Wisconsin Ave &amp; O St NW                               </td><td>Subscriber                                                </td><td>NA                                                        </td><td>NA                                                        </td><td>Yuma St &amp; Tenley Circle NW Wisconsin Ave &amp; O St NW</td><td>1                                                         </td></tr>\n",
       "</tbody>\n",
       "</table>\n"
      ],
      "text/latex": [
       "\\begin{tabular}{r|lllllllllll}\n",
       " X & Start.Time & End.Time & Trip.Duration & Start.Station & End.Station & User.Type & Gender & Birth.Year & commontrip & rank\\\\\n",
       "\\hline\n",
       "\t 1253736                                                & 2017-05-23 03:15:47                                    & 2017-05-23 03:41:45                                    & 1557.887                                               & Yuma St \\& Tenley Circle NW                           & Wisconsin Ave \\& O St NW                              & Subscriber                                             & NA                                                     & NA                                                     & Yuma St \\& Tenley Circle NW Wisconsin Ave \\& O St NW & 1                                                     \\\\\n",
       "\\end{tabular}\n"
      ],
      "text/markdown": [
       "\n",
       "| X | Start.Time | End.Time | Trip.Duration | Start.Station | End.Station | User.Type | Gender | Birth.Year | commontrip | rank |\n",
       "|---|---|---|---|---|---|---|---|---|---|---|\n",
       "| 1253736                                            | 2017-05-23 03:15:47                                | 2017-05-23 03:41:45                                | 1557.887                                           | Yuma St & Tenley Circle NW                         | Wisconsin Ave & O St NW                            | Subscriber                                         | NA                                                 | NA                                                 | Yuma St & Tenley Circle NW Wisconsin Ave & O St NW | 1                                                  |\n",
       "\n"
      ],
      "text/plain": [
       "  X       Start.Time          End.Time            Trip.Duration\n",
       "1 1253736 2017-05-23 03:15:47 2017-05-23 03:41:45 1557.887     \n",
       "  Start.Station              End.Station             User.Type  Gender\n",
       "1 Yuma St & Tenley Circle NW Wisconsin Ave & O St NW Subscriber NA    \n",
       "  Birth.Year commontrip                                         rank\n",
       "1 NA         Yuma St & Tenley Circle NW Wisconsin Ave & O St NW 1   "
      ]
     },
     "metadata": {},
     "output_type": "display_data"
    }
   ],
   "source": [
    "#The most common trip from start to end \n",
    "df$commontrip <- paste(df$Start.Station,df$End.Station)\n",
    "rank_commontrip <- arrange(df, desc(commontrip)) %>%\n",
    "          mutate(rank = 1:nrow(df))\n",
    "head(rank_commontrip,1)\n",
    "#Yuma St & Tenley Circle NW Wisconsin Ave & O St NW\t1 is the most common tirp "
   ]
  },
  {
   "cell_type": "markdown",
   "metadata": {},
   "source": [
    "**Summary of your question 2 results goes here.**"
   ]
  },
  {
   "cell_type": "markdown",
   "metadata": {},
   "source": [
    "### Question 3\n",
    "\n",
    "**Your question 3 goes here.**"
   ]
  },
  {
   "cell_type": "code",
   "execution_count": 113,
   "metadata": {},
   "outputs": [
    {
     "data": {
      "text/html": [
       "<table>\n",
       "<thead><tr><th scope=col>X</th><th scope=col>Start.Time</th><th scope=col>End.Time</th><th scope=col>Trip.Duration</th><th scope=col>Start.Station</th><th scope=col>End.Station</th><th scope=col>User.Type</th><th scope=col>Gender</th><th scope=col>Birth.Year</th><th scope=col>commontrip</th><th scope=col>total_traveltime</th></tr></thead>\n",
       "<tbody>\n",
       "\t<tr><td>1423854                                             </td><td>2017-06-23 15:09:32                                 </td><td>2017-06-23 15:14:53                                 </td><td>321                                                 </td><td>Wood St &amp; Hubbard St                            </td><td>Damen Ave &amp; Chicago Ave                         </td><td>Subscriber                                          </td><td>Male                                                </td><td>1992                                                </td><td>Wood St &amp; Hubbard St Damen Ave &amp; Chicago Ave</td><td>44125905                                            </td></tr>\n",
       "</tbody>\n",
       "</table>\n"
      ],
      "text/latex": [
       "\\begin{tabular}{r|lllllllllll}\n",
       " X & Start.Time & End.Time & Trip.Duration & Start.Station & End.Station & User.Type & Gender & Birth.Year & commontrip & total\\_traveltime\\\\\n",
       "\\hline\n",
       "\t 1423854                                          & 2017-06-23 15:09:32                              & 2017-06-23 15:14:53                              & 321                                              & Wood St \\& Hubbard St                           & Damen Ave \\& Chicago Ave                        & Subscriber                                       & Male                                             & 1992                                             & Wood St \\& Hubbard St Damen Ave \\& Chicago Ave & 44125905                                        \\\\\n",
       "\\end{tabular}\n"
      ],
      "text/markdown": [
       "\n",
       "| X | Start.Time | End.Time | Trip.Duration | Start.Station | End.Station | User.Type | Gender | Birth.Year | commontrip | total_traveltime |\n",
       "|---|---|---|---|---|---|---|---|---|---|---|\n",
       "| 1423854                                      | 2017-06-23 15:09:32                          | 2017-06-23 15:14:53                          | 321                                          | Wood St & Hubbard St                         | Damen Ave & Chicago Ave                      | Subscriber                                   | Male                                         | 1992                                         | Wood St & Hubbard St Damen Ave & Chicago Ave | 44125905                                     |\n",
       "\n"
      ],
      "text/plain": [
       "  X       Start.Time          End.Time            Trip.Duration\n",
       "1 1423854 2017-06-23 15:09:32 2017-06-23 15:14:53 321          \n",
       "  Start.Station        End.Station             User.Type  Gender Birth.Year\n",
       "1 Wood St & Hubbard St Damen Ave & Chicago Ave Subscriber Male   1992      \n",
       "  commontrip                                   total_traveltime\n",
       "1 Wood St & Hubbard St Damen Ave & Chicago Ave 44125905        "
      ]
     },
     "metadata": {},
     "output_type": "display_data"
    }
   ],
   "source": [
    "#Total travel time for users in different cities \n",
    "sum_df<-df %>%  na.omit()%>% mutate(total_traveltime = sum(Trip.Duration))\n",
    "head(sum_df,1)\n",
    "#Total travel time for users in different cities is 44125905 hours"
   ]
  },
  {
   "cell_type": "code",
   "execution_count": 117,
   "metadata": {},
   "outputs": [
    {
     "data": {
      "text/html": [
       "<table>\n",
       "<thead><tr><th scope=col>X</th><th scope=col>Start.Time</th><th scope=col>End.Time</th><th scope=col>Trip.Duration</th><th scope=col>Start.Station</th><th scope=col>End.Station</th><th scope=col>User.Type</th><th scope=col>Gender</th><th scope=col>Birth.Year</th><th scope=col>commontrip</th><th scope=col>mean_traveltime</th></tr></thead>\n",
       "<tbody>\n",
       "\t<tr><td>1423854                                             </td><td>2017-06-23 15:09:32                                 </td><td>2017-06-23 15:14:53                                 </td><td>321                                                 </td><td>Wood St &amp; Hubbard St                            </td><td>Damen Ave &amp; Chicago Ave                         </td><td>Subscriber                                          </td><td>Male                                                </td><td>1992                                                </td><td>Wood St &amp; Hubbard St Damen Ave &amp; Chicago Ave</td><td>781.889                                             </td></tr>\n",
       "</tbody>\n",
       "</table>\n"
      ],
      "text/latex": [
       "\\begin{tabular}{r|lllllllllll}\n",
       " X & Start.Time & End.Time & Trip.Duration & Start.Station & End.Station & User.Type & Gender & Birth.Year & commontrip & mean\\_traveltime\\\\\n",
       "\\hline\n",
       "\t 1423854                                          & 2017-06-23 15:09:32                              & 2017-06-23 15:14:53                              & 321                                              & Wood St \\& Hubbard St                           & Damen Ave \\& Chicago Ave                        & Subscriber                                       & Male                                             & 1992                                             & Wood St \\& Hubbard St Damen Ave \\& Chicago Ave & 781.889                                         \\\\\n",
       "\\end{tabular}\n"
      ],
      "text/markdown": [
       "\n",
       "| X | Start.Time | End.Time | Trip.Duration | Start.Station | End.Station | User.Type | Gender | Birth.Year | commontrip | mean_traveltime |\n",
       "|---|---|---|---|---|---|---|---|---|---|---|\n",
       "| 1423854                                      | 2017-06-23 15:09:32                          | 2017-06-23 15:14:53                          | 321                                          | Wood St & Hubbard St                         | Damen Ave & Chicago Ave                      | Subscriber                                   | Male                                         | 1992                                         | Wood St & Hubbard St Damen Ave & Chicago Ave | 781.889                                      |\n",
       "\n"
      ],
      "text/plain": [
       "  X       Start.Time          End.Time            Trip.Duration\n",
       "1 1423854 2017-06-23 15:09:32 2017-06-23 15:14:53 321          \n",
       "  Start.Station        End.Station             User.Type  Gender Birth.Year\n",
       "1 Wood St & Hubbard St Damen Ave & Chicago Ave Subscriber Male   1992      \n",
       "  commontrip                                   mean_traveltime\n",
       "1 Wood St & Hubbard St Damen Ave & Chicago Ave 781.889        "
      ]
     },
     "metadata": {},
     "output_type": "display_data"
    }
   ],
   "source": [
    "#Average travel time for users in different cities \n",
    "mean_df<-df %>%  na.omit()%>% mutate(mean_traveltime = mean(Trip.Duration))\n",
    "head(mean_df,1)\n",
    "\n",
    "#Average travel time for users in different cities is 781.889 hours"
   ]
  },
  {
   "cell_type": "code",
   "execution_count": 95,
   "metadata": {},
   "outputs": [
    {
     "data": {
      "text/html": [
       "<table>\n",
       "<thead><tr><th scope=col>User.Type</th><th scope=col>n</th></tr></thead>\n",
       "<tbody>\n",
       "\t<tr><td>          </td><td>   121    </td></tr>\n",
       "\t<tr><td>Customer  </td><td> 30754    </td></tr>\n",
       "\t<tr><td>Subscriber</td><td>121576    </td></tr>\n",
       "</tbody>\n",
       "</table>\n"
      ],
      "text/latex": [
       "\\begin{tabular}{r|ll}\n",
       " User.Type & n\\\\\n",
       "\\hline\n",
       "\t            &    121    \\\\\n",
       "\t Customer   &  30754    \\\\\n",
       "\t Subscriber & 121576    \\\\\n",
       "\\end{tabular}\n"
      ],
      "text/markdown": [
       "\n",
       "| User.Type | n |\n",
       "|---|---|\n",
       "|            |    121     |\n",
       "| Customer   |  30754     |\n",
       "| Subscriber | 121576     |\n",
       "\n"
      ],
      "text/plain": [
       "  User.Type  n     \n",
       "1               121\n",
       "2 Customer    30754\n",
       "3 Subscriber 121576"
      ]
     },
     "metadata": {},
     "output_type": "display_data"
    }
   ],
   "source": [
    "# User info \n",
    "# Count of each user type \n",
    "df%>% group_by(User.Type)%>% count\n"
   ]
  },
  {
   "cell_type": "markdown",
   "metadata": {},
   "source": [
    "**Summary of your question 3 results goes here.**"
   ]
  },
  {
   "cell_type": "code",
   "execution_count": 96,
   "metadata": {},
   "outputs": [
    {
     "data": {
      "text/html": [
       "<table>\n",
       "<thead><tr><th scope=col>Gender</th><th scope=col>n</th></tr></thead>\n",
       "<tbody>\n",
       "\t<tr><td>      </td><td> 7158 </td></tr>\n",
       "\t<tr><td>Female</td><td>13882 </td></tr>\n",
       "\t<tr><td>Male  </td><td>42360 </td></tr>\n",
       "\t<tr><td>NA    </td><td>89051 </td></tr>\n",
       "</tbody>\n",
       "</table>\n"
      ],
      "text/latex": [
       "\\begin{tabular}{r|ll}\n",
       " Gender & n\\\\\n",
       "\\hline\n",
       "\t        &  7158 \\\\\n",
       "\t Female & 13882 \\\\\n",
       "\t Male   & 42360 \\\\\n",
       "\t NA     & 89051 \\\\\n",
       "\\end{tabular}\n"
      ],
      "text/markdown": [
       "\n",
       "| Gender | n |\n",
       "|---|---|\n",
       "|        |  7158  |\n",
       "| Female | 13882  |\n",
       "| Male   | 42360  |\n",
       "| NA     | 89051  |\n",
       "\n"
      ],
      "text/plain": [
       "  Gender n    \n",
       "1         7158\n",
       "2 Female 13882\n",
       "3 Male   42360\n",
       "4 NA     89051"
      ]
     },
     "metadata": {},
     "output_type": "display_data"
    }
   ],
   "source": [
    "#Counts of each gender \n",
    "df %>% group_by(Gender)%>% count\n"
   ]
  },
  {
   "cell_type": "code",
   "execution_count": 108,
   "metadata": {},
   "outputs": [
    {
     "data": {
      "text/plain": [
       "   Min. 1st Qu.  Median    Mean 3rd Qu.    Max.    NA's \n",
       "   1885    1970    1981    1979    1988    2002   96016 "
      ]
     },
     "metadata": {},
     "output_type": "display_data"
    }
   ],
   "source": [
    "#Counts of most common year of birth \n",
    "summary(df$Birth.Year)\n",
    "#The earliest year of birth is 1885, the most recent year of brith is 2002, most common year of birth is 1981 "
   ]
  },
  {
   "cell_type": "code",
   "execution_count": null,
   "metadata": {},
   "outputs": [],
   "source": []
  },
  {
   "cell_type": "code",
   "execution_count": null,
   "metadata": {},
   "outputs": [],
   "source": []
  },
  {
   "cell_type": "markdown",
   "metadata": {},
   "source": [
    "\n",
    "## Finishing Up\n",
    "\n",
    "> Congratulations!  You have reached the end of the Explore Bikeshare Data Project. You should be very proud of all you have accomplished!\n",
    "\n",
    "> **Tip**: Once you are satisfied with your work here, check over your report to make sure that it is satisfies all the areas of the [rubric](https://review.udacity.com/#!/rubrics/2508/view). \n",
    "\n",
    "\n",
    "## Directions to Submit\n",
    "\n",
    "> Before you submit your project, you need to create a .html or .pdf version of this notebook in the workspace here. To do that, run the code cell below. If it worked correctly, you should get a return code of 0, and you should see the generated .html file in the workspace directory (click on the orange Jupyter icon in the upper left).\n",
    "\n",
    "> Alternatively, you can download this report as .html via the **File** > **Download as** submenu, and then manually upload it into the workspace directory by clicking on the orange Jupyter icon in the upper left, then using the Upload button.\n",
    "\n",
    "> Once you've done this, you can submit your project by clicking on the \"Submit Project\" button in the lower right here. This will create and submit a zip file with this .ipynb doc and the .html or .pdf version you created. Congratulations!"
   ]
  },
  {
   "cell_type": "code",
   "execution_count": 17,
   "metadata": {},
   "outputs": [],
   "source": [
    "system('python -m nbconvert Explore_bikeshare_data.ipynb')"
   ]
  },
  {
   "cell_type": "code",
   "execution_count": null,
   "metadata": {},
   "outputs": [],
   "source": []
  }
 ],
 "metadata": {
  "kernelspec": {
   "display_name": "R",
   "language": "R",
   "name": "ir"
  },
  
  "language_info": {
   "codemirror_mode": "r",
   "file_extension": ".r",
   "mimetype": "text/x-r-source",
   "name": "R",
   "pygments_lexer": "r",
   "version": "3.5.1"
  }
 },
 "nbformat": 4,
 "nbformat_minor": 2
}
